{
 "cells": [
  {
   "cell_type": "markdown",
   "metadata": {},
   "source": [
    "### import  data"
   ]
  },
  {
   "cell_type": "code",
   "execution_count": 97,
   "metadata": {},
   "outputs": [],
   "source": [
    "import csv"
   ]
  },
  {
   "cell_type": "code",
   "execution_count": 98,
   "metadata": {},
   "outputs": [],
   "source": [
    "lis = []\n",
    "with open(\"/Users/zpei/Downloads/msnbc990928.seq\") as data:\n",
    "    reader = csv.reader(data)\n",
    "    for row in reader:\n",
    "        lis.append(row)\n",
    "data.close()        "
   ]
  },
  {
   "cell_type": "markdown",
   "metadata": {},
   "source": [
    "### clean data"
   ]
  },
  {
   "cell_type": "code",
   "execution_count": 99,
   "metadata": {},
   "outputs": [],
   "source": [
    "data=[]\n",
    "for i in lis[7:]:\n",
    "    str = \"\".join(i).split(\" \")[:-1]\n",
    "    data.append(str)"
   ]
  },
  {
   "cell_type": "code",
   "execution_count": 100,
   "metadata": {},
   "outputs": [
    {
     "data": {
      "text/plain": [
       "[['1', '1'],\n",
       " ['2'],\n",
       " ['3', '2', '2', '4', '2', '2', '2', '3', '3'],\n",
       " ['5'],\n",
       " ['1'],\n",
       " ['6'],\n",
       " ['1', '1'],\n",
       " ['6'],\n",
       " ['6', '7', '7', '7', '6', '6', '8', '8', '8', '8'],\n",
       " ['6', '9', '4', '4', '4', '10', '3', '10', '5', '10', '4', '4', '4']]"
      ]
     },
     "execution_count": 100,
     "metadata": {},
     "output_type": "execute_result"
    }
   ],
   "source": [
    "data[:10]"
   ]
  },
  {
   "cell_type": "markdown",
   "metadata": {},
   "source": [
    "### Question 1"
   ]
  },
  {
   "cell_type": "code",
   "execution_count": 91,
   "metadata": {
    "collapsed": true
   },
   "outputs": [],
   "source": [
    "sublis=[]"
   ]
  },
  {
   "cell_type": "code",
   "execution_count": 106,
   "metadata": {},
   "outputs": [
    {
     "name": "stdout",
     "output_type": "stream",
     "text": [
      "2569 0.25954266339872584 %\n"
     ]
    }
   ],
   "source": [
    "cnt = 0\n",
    "for i in data:\n",
    "    if \"17\" in i and \"12\" in i:      \n",
    "        cnt = cnt + 1\n",
    "        sublis.append(str) ##store all records with both \"17\" and \"12\" in the list for next question\n",
    "print(cnt,cnt/len(data)*100,\"%\")"
   ]
  },
  {
   "cell_type": "markdown",
   "metadata": {},
   "source": [
    "### Question 2"
   ]
  },
  {
   "cell_type": "code",
   "execution_count": 105,
   "metadata": {},
   "outputs": [
    {
     "name": "stdout",
     "output_type": "stream",
     "text": [
      "1169 0.11810251985718587 %\n"
     ]
    }
   ],
   "source": [
    "cnt2 = 0\n",
    "for i in sublis:\n",
    "    flag1,flag2 =None,None\n",
    "    for j in range(len(i)):\n",
    "        if i[j] == \"17\": \n",
    "            flag1 = j\n",
    "            break\n",
    "    for h in range(len(i)):\n",
    "        if i[h] == \"12\":\n",
    "            flag2 = h\n",
    "            break\n",
    "    if flag2 is not None and flag1 is not None and flag2>flag1:    \n",
    "        cnt2 = cnt2 + 1\n",
    "print(cnt2,cnt2/len(data)*100,\"%\")"
   ]
  }
 ],
 "metadata": {
  "kernelspec": {
   "display_name": "Python 3",
   "language": "python",
   "name": "python3"
  },
  "language_info": {
   "codemirror_mode": {
    "name": "ipython",
    "version": 3
   },
   "file_extension": ".py",
   "mimetype": "text/x-python",
   "name": "python",
   "nbconvert_exporter": "python",
   "pygments_lexer": "ipython3",
   "version": "3.6.2"
  }
 },
 "nbformat": 4,
 "nbformat_minor": 2
}
