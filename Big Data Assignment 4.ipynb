{
 "cells": [
  {
   "cell_type": "markdown",
   "metadata": {},
   "source": [
    "## Big Data Assignment 4 from Team dunnhumby"
   ]
  },
  {
   "cell_type": "markdown",
   "metadata": {},
   "source": [
    "### import all libraries"
   ]
  },
  {
   "cell_type": "code",
   "execution_count": 164,
   "metadata": {},
   "outputs": [],
   "source": [
    "import geocoder\n",
    "import pandas as pd\n",
    "from geopy.distance import great_circle"
   ]
  },
  {
   "cell_type": "markdown",
   "metadata": {},
   "source": [
    "### read dictionary of capitals of US 50 states"
   ]
  },
  {
   "cell_type": "code",
   "execution_count": 165,
   "metadata": {},
   "outputs": [],
   "source": [
    "capitals = {'Alabama': 'Montgomery', 'Alaska': 'Juneau', 'Arizona': 'Phoenix',\n",
    "   'Arkansas': 'Little Rock', 'California': 'Sacramento', 'Colorado': 'Denver',\n",
    "   'Connecticut': 'Hartford', 'Delaware': 'Dover', 'Florida': 'Tallahassee',\n",
    "   'Georgia': 'Atlanta', 'Hawaii': 'Honolulu', 'Idaho': 'Boise', 'Illinois':\n",
    "   'Springfield', 'Indiana': 'Indianapolis', 'Iowa': 'Des Moines', 'Kansas':\n",
    "   'Topeka', 'Kentucky': 'Frankfort', 'Louisiana': 'Baton Rouge', 'Maine':\n",
    "   'Augusta', 'Maryland': 'Annapolis', 'Massachusetts': 'Boston', 'Michigan':\n",
    "   'Lansing', 'Minnesota': 'Saint Paul', 'Mississippi': 'Jackson', 'Missouri':\n",
    "   'Jefferson City', 'Montana': 'Helena', 'Nebraska': 'Lincoln', 'Nevada':\n",
    "   'Carson City', 'New Hampshire': 'Concord', 'New Jersey': 'Trenton', 'New Mexico': 'Santa Fe', 'New York': 'Albany', 'North Carolina': 'Raleigh',\n",
    "   'North Dakota': 'Bismarck', 'Ohio': 'Columbus', 'Oklahoma': 'Oklahoma City',\n",
    "   'Oregon': 'Salem', 'Pennsylvania': 'Harrisburg', 'Rhode Island': 'Providence',\n",
    "   'South Carolina': 'Columbia', 'South Dakota': 'Pierre', 'Tennessee':\n",
    "   'Nashville', 'Texas': 'Austin', 'Utah': 'Salt Lake City', 'Vermont':\n",
    "   'Montpelier', 'Virginia': 'Richmond', 'Washington': 'Olympia', 'West Virginia': 'Charleston', 'Wisconsin': 'Madison', 'Wyoming': 'Cheyenne'}"
   ]
  },
  {
   "cell_type": "markdown",
   "metadata": {},
   "source": [
    "### get the latitudes and longtitudes"
   ]
  },
  {
   "cell_type": "code",
   "execution_count": 168,
   "metadata": {},
   "outputs": [],
   "source": [
    "cities=[]\n",
    "def getlatlng(state, city):\n",
    "    name = city+\", \"+state\n",
    "    g = geocoder.google(name).latlng\n",
    "    if g is not None:\n",
    "        cities.append([city, (g[0],g[1])])\n",
    "    else:\n",
    "        getlatlng(state, city)       "
   ]
  },
  {
   "cell_type": "code",
   "execution_count": 169,
   "metadata": {},
   "outputs": [],
   "source": [
    "for state, city in capitals.items():\n",
    "    getlatlng(state, city)"
   ]
  },
  {
   "cell_type": "markdown",
   "metadata": {},
   "source": [
    "### get distiant in miles between any two cities"
   ]
  },
  {
   "cell_type": "code",
   "execution_count": 170,
   "metadata": {},
   "outputs": [],
   "source": [
    "r1=[]\n",
    "for i in cities:\n",
    "    for j in cities:\n",
    "        dist = great_circle(i[1], j[1]).miles\n",
    "        if dist>0 and dist<500:\n",
    "            r1.append([i[0],j[0],dist])"
   ]
  },
  {
   "cell_type": "code",
   "execution_count": 183,
   "metadata": {},
   "outputs": [
    {
     "data": {
      "text/plain": [
       "[['Montgomery', 'Little Rock', 382.0732194127232],\n",
       " ['Montgomery', 'Tallahassee', 178.74694476583971],\n",
       " ['Montgomery', 'Atlanta', 146.2518406585516],\n",
       " ['Montgomery', 'Frankfort', 411.14891458522874],\n",
       " ['Montgomery', 'Baton Rouge', 314.45152193195923],\n",
       " ['Montgomery', 'Jackson', 226.9003943837123],\n",
       " ['Montgomery', 'Raleigh', 497.79056264400265],\n",
       " ['Montgomery', 'Columbia', 324.755707550272],\n",
       " ['Montgomery', 'Nashville', 263.7795549804174],\n",
       " ['Montgomery', 'Charleston', 489.92027243527076]]"
      ]
     },
     "execution_count": 183,
     "metadata": {},
     "output_type": "execute_result"
    }
   ],
   "source": [
    "r1[0:10]"
   ]
  },
  {
   "cell_type": "markdown",
   "metadata": {},
   "source": [
    "### get the result"
   ]
  },
  {
   "cell_type": "code",
   "execution_count": 178,
   "metadata": {},
   "outputs": [],
   "source": [
    "## start from two cities; and add one more city for each loop and check if the current distant <1000\n",
    "## stop the do-while loop when there is no result in the list (<1000)\n",
    "result = r1\n",
    "flag = 1\n",
    "while flag>0:\n",
    "    new_result=[]\n",
    "    for i in result:\n",
    "        for j in r1:\n",
    "            if i[-1]+j[-1]<1000 and i[-2]==j[0] and j[-2] not in i:\n",
    "                p=i[0:-1]\n",
    "                new = ((j[1],i[-1]+j[-1]))\n",
    "                p.extend(new)\n",
    "                new_result.append(p)\n",
    "    last_result = result\n",
    "    result = new_result\n",
    "    flag  = len(result)"
   ]
  },
  {
   "cell_type": "code",
   "execution_count": 184,
   "metadata": {},
   "outputs": [
    {
     "data": {
      "text/plain": [
       "[['Hartford',\n",
       "  'Albany',\n",
       "  'Montpelier',\n",
       "  'Concord',\n",
       "  'Boston',\n",
       "  'Providence',\n",
       "  'Trenton',\n",
       "  'Dover',\n",
       "  'Annapolis',\n",
       "  'Richmond',\n",
       "  'Raleigh',\n",
       "  996.4352314804204],\n",
       " ['Hartford',\n",
       "  'Albany',\n",
       "  'Montpelier',\n",
       "  'Concord',\n",
       "  'Boston',\n",
       "  'Providence',\n",
       "  'Trenton',\n",
       "  'Harrisburg',\n",
       "  'Dover',\n",
       "  'Annapolis',\n",
       "  'Richmond',\n",
       "  992.4157459382996],\n",
       " ['Hartford',\n",
       "  'Providence',\n",
       "  'Boston',\n",
       "  'Augusta',\n",
       "  'Concord',\n",
       "  'Montpelier',\n",
       "  'Albany',\n",
       "  'Trenton',\n",
       "  'Dover',\n",
       "  'Annapolis',\n",
       "  'Harrisburg',\n",
       "  993.0878276795238],\n",
       " ['Hartford',\n",
       "  'Providence',\n",
       "  'Boston',\n",
       "  'Concord',\n",
       "  'Augusta',\n",
       "  'Montpelier',\n",
       "  'Albany',\n",
       "  'Trenton',\n",
       "  'Dover',\n",
       "  'Annapolis',\n",
       "  'Harrisburg',\n",
       "  956.2571280291061],\n",
       " ['Hartford',\n",
       "  'Providence',\n",
       "  'Boston',\n",
       "  'Concord',\n",
       "  'Augusta',\n",
       "  'Montpelier',\n",
       "  'Albany',\n",
       "  'Trenton',\n",
       "  'Dover',\n",
       "  'Annapolis',\n",
       "  'Richmond',\n",
       "  976.1309912632727],\n",
       " ['Hartford',\n",
       "  'Providence',\n",
       "  'Boston',\n",
       "  'Concord',\n",
       "  'Augusta',\n",
       "  'Montpelier',\n",
       "  'Albany',\n",
       "  'Trenton',\n",
       "  'Harrisburg',\n",
       "  'Dover',\n",
       "  'Annapolis',\n",
       "  999.0890632553967],\n",
       " ['Hartford',\n",
       "  'Providence',\n",
       "  'Boston',\n",
       "  'Concord',\n",
       "  'Augusta',\n",
       "  'Montpelier',\n",
       "  'Albany',\n",
       "  'Trenton',\n",
       "  'Harrisburg',\n",
       "  'Annapolis',\n",
       "  'Dover',\n",
       "  985.251410091758],\n",
       " ['Hartford',\n",
       "  'Providence',\n",
       "  'Boston',\n",
       "  'Concord',\n",
       "  'Albany',\n",
       "  'Trenton',\n",
       "  'Dover',\n",
       "  'Harrisburg',\n",
       "  'Annapolis',\n",
       "  'Richmond',\n",
       "  'Raleigh',\n",
       "  997.3336779381394],\n",
       " ['Hartford',\n",
       "  'Providence',\n",
       "  'Boston',\n",
       "  'Concord',\n",
       "  'Albany',\n",
       "  'Trenton',\n",
       "  'Harrisburg',\n",
       "  'Dover',\n",
       "  'Annapolis',\n",
       "  'Richmond',\n",
       "  'Raleigh',\n",
       "  987.8097042017283],\n",
       " ['Hartford',\n",
       "  'Providence',\n",
       "  'Boston',\n",
       "  'Concord',\n",
       "  'Montpelier',\n",
       "  'Albany',\n",
       "  'Trenton',\n",
       "  'Dover',\n",
       "  'Annapolis',\n",
       "  'Harrisburg',\n",
       "  'Richmond',\n",
       "  982.0999674210537]]"
      ]
     },
     "execution_count": 184,
     "metadata": {},
     "output_type": "execute_result"
    }
   ],
   "source": [
    "last_result[0:10]"
   ]
  },
  {
   "cell_type": "code",
   "execution_count": 180,
   "metadata": {},
   "outputs": [
    {
     "data": {
      "text/plain": [
       "478"
      ]
     },
     "execution_count": 180,
     "metadata": {},
     "output_type": "execute_result"
    }
   ],
   "source": [
    "len(last_result)"
   ]
  },
  {
   "cell_type": "code",
   "execution_count": 181,
   "metadata": {},
   "outputs": [
    {
     "data": {
      "text/plain": [
       "11"
      ]
     },
     "execution_count": 181,
     "metadata": {},
     "output_type": "execute_result"
    }
   ],
   "source": [
    "len(last_result[0])-1"
   ]
  },
  {
   "cell_type": "markdown",
   "metadata": {},
   "source": [
    "### Conclusion"
   ]
  },
  {
   "cell_type": "markdown",
   "metadata": {},
   "source": [
    "Within a distant limitation of 1000 miles, the helicoptor is able to fly through 11 capitals of US states at most. There are 478 possible routes as shown above."
   ]
  }
 ],
 "metadata": {
  "kernelspec": {
   "display_name": "Python 3",
   "language": "python",
   "name": "python3"
  },
  "language_info": {
   "codemirror_mode": {
    "name": "ipython",
    "version": 3
   },
   "file_extension": ".py",
   "mimetype": "text/x-python",
   "name": "python",
   "nbconvert_exporter": "python",
   "pygments_lexer": "ipython3",
   "version": "3.6.4"
  }
 },
 "nbformat": 4,
 "nbformat_minor": 2
}
